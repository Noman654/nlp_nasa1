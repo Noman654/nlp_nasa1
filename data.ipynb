{
 "cells": [
  {
   "cell_type": "code",
   "execution_count": 1,
   "metadata": {},
   "outputs": [],
   "source": [
    "import pandas as pd\n",
    "import json"
   ]
  },
  {
   "cell_type": "code",
   "execution_count": 14,
   "metadata": {},
   "outputs": [],
   "source": [
    "f = open('data.json')\n",
    "dd = json.load(f)"
   ]
  },
  {
   "cell_type": "code",
   "execution_count": null,
   "metadata": {},
   "outputs": [],
   "source": []
  },
  {
   "cell_type": "code",
   "execution_count": 26,
   "metadata": {},
   "outputs": [],
   "source": [
    "data = []\n",
    "for i in dd.keys():\n",
    "    try:\n",
    "        temp_d = dict()\n",
    "        temp_d['title'] = dd[i]['title']\n",
    "        temp_d['submittedDate'] = dd[i]['submittedDate']\n",
    "        temp_d['created'] = dd[i]['created']\n",
    "        temp_d['subjectCategories'] = dd[i]['subjectCategories']\n",
    "        # if 'abstract' in dd[i]:\n",
    "        temp_d['abstract'] = dd[i]['abstract']\n",
    "        temp_d['id'] = i\n",
    "        # else:\n",
    "        #     temp_d['abstract'] = None\n",
    "        seq =0\n",
    "        if 'authorAffiliations' in dd[i]:\n",
    "            for author_info in dd[i]['authorAffiliations']:\n",
    "                temp_d['author'+str(seq)] = author_info['meta']['author']['name']\n",
    "                seq +=1\n",
    "        data.append(temp_d)\n",
    "    except:\n",
    "        pass\n",
    "\n",
    "        "
   ]
  },
  {
   "cell_type": "code",
   "execution_count": 28,
   "metadata": {},
   "outputs": [
    {
     "data": {
      "text/html": [
       "<div>\n",
       "<style scoped>\n",
       "    .dataframe tbody tr th:only-of-type {\n",
       "        vertical-align: middle;\n",
       "    }\n",
       "\n",
       "    .dataframe tbody tr th {\n",
       "        vertical-align: top;\n",
       "    }\n",
       "\n",
       "    .dataframe thead th {\n",
       "        text-align: right;\n",
       "    }\n",
       "</style>\n",
       "<table border=\"1\" class=\"dataframe\">\n",
       "  <thead>\n",
       "    <tr style=\"text-align: right;\">\n",
       "      <th></th>\n",
       "      <th>id</th>\n",
       "      <th>title</th>\n",
       "      <th>submittedDate</th>\n",
       "      <th>created</th>\n",
       "      <th>subjectCategories</th>\n",
       "      <th>abstract</th>\n",
       "      <th>author0</th>\n",
       "      <th>author1</th>\n",
       "    </tr>\n",
       "  </thead>\n",
       "  <tbody>\n",
       "    <tr>\n",
       "      <th>0</th>\n",
       "      <td>19930091025</td>\n",
       "      <td>Annual Report of the National Advisory Committ...</td>\n",
       "      <td>2013-09-06 18:26:00+00:00</td>\n",
       "      <td>2013-09-06 18:26:00+00:00</td>\n",
       "      <td>[Administration and Management]</td>\n",
       "      <td>Report includes the National Advisory Committe...</td>\n",
       "      <td>NaN</td>\n",
       "      <td>NaN</td>\n",
       "    </tr>\n",
       "    <tr>\n",
       "      <th>1</th>\n",
       "      <td>19930091050</td>\n",
       "      <td>Aeronautic Power Plant Investigations</td>\n",
       "      <td>2013-09-06 18:26:00+00:00</td>\n",
       "      <td>2013-09-06 18:26:00+00:00</td>\n",
       "      <td>[Aeronautics (General)]</td>\n",
       "      <td>Report presents the design of radiators, spark...</td>\n",
       "      <td>Dickinson, H C</td>\n",
       "      <td>NaN</td>\n",
       "    </tr>\n",
       "  </tbody>\n",
       "</table>\n",
       "</div>"
      ],
      "text/plain": [
       "            id                                              title  \\\n",
       "0  19930091025  Annual Report of the National Advisory Committ...   \n",
       "1  19930091050              Aeronautic Power Plant Investigations   \n",
       "\n",
       "              submittedDate                   created  \\\n",
       "0 2013-09-06 18:26:00+00:00 2013-09-06 18:26:00+00:00   \n",
       "1 2013-09-06 18:26:00+00:00 2013-09-06 18:26:00+00:00   \n",
       "\n",
       "                 subjectCategories  \\\n",
       "0  [Administration and Management]   \n",
       "1          [Aeronautics (General)]   \n",
       "\n",
       "                                            abstract         author0 author1  \n",
       "0  Report includes the National Advisory Committe...             NaN     NaN  \n",
       "1  Report presents the design of radiators, spark...  Dickinson, H C     NaN  "
      ]
     },
     "execution_count": 28,
     "metadata": {},
     "output_type": "execute_result"
    }
   ],
   "source": [
    "data_df = pd.DataFrame(data)[['id','title','submittedDate','created','subjectCategories'\n",
    "                            ,'abstract','author0','author1']]\n",
    "\n",
    "data_df['submittedDate'] = pd.to_datetime(data_df['submittedDate'])\n",
    "data_df['created'] = pd.to_datetime(data_df['created'])\n",
    "data_df.head(2)"
   ]
  },
  {
   "cell_type": "code",
   "execution_count": 31,
   "metadata": {},
   "outputs": [],
   "source": [
    "data_df.to_csv('final_nasa_data.csv')"
   ]
  },
  {
   "cell_type": "code",
   "execution_count": null,
   "metadata": {},
   "outputs": [],
   "source": []
  }
 ],
 "metadata": {
  "kernelspec": {
   "display_name": "Python 3.10.5 64-bit",
   "language": "python",
   "name": "python3"
  },
  "language_info": {
   "codemirror_mode": {
    "name": "ipython",
    "version": 3
   },
   "file_extension": ".py",
   "mimetype": "text/x-python",
   "name": "python",
   "nbconvert_exporter": "python",
   "pygments_lexer": "ipython3",
   "version": "3.10.5"
  },
  "orig_nbformat": 4,
  "vscode": {
   "interpreter": {
    "hash": "2ce1164ab98d319b9834d52646751eefeeeeb1c1ac6c05afbef3f02859c93ad9"
   }
  }
 },
 "nbformat": 4,
 "nbformat_minor": 2
}
